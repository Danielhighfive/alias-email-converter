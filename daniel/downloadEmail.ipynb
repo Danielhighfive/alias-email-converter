import imaplib
import base64
import os
import email